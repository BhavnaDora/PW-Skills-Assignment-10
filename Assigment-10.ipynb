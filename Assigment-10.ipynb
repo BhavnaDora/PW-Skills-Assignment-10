{
 "cells": [
  {
   "cell_type": "markdown",
   "id": "9235ef64-a560-4c4d-8c44-9db9c2fc6aac",
   "metadata": {},
   "source": [
    "#### (1)-\n",
    "##### open() function is used to open a file. \n",
    "##### The different modes of opening a file are read mode, write mode, append mode, binary mode etc\n",
    "##### Different modes of opening a file-\n",
    "##### 'r'- open for reading a file (default)\n",
    "##### 'w'- open for writing but truncating the file first\n",
    "##### 'x'- create a new file and open it for writing\n",
    "##### 'a'- open for writing, appending to the end of the file if it exists\n",
    "##### 'b'- binary mode\n",
    "##### 't'- text mode (default)\n",
    "##### '+'- open a disk file for updating (reading and writing)\n",
    "##### 'U'- universal newline mode (deprecated)"
   ]
  },
  {
   "cell_type": "markdown",
   "id": "772ed431-1af0-4400-9a64-dca4a22af486",
   "metadata": {},
   "source": [
    "#### (2)-\n",
    "##### close() method is used to close an open file.\n",
    "##### It is important to close a file because on writing something to a file it won't reflect in the file unless we close it."
   ]
  },
  {
   "cell_type": "markdown",
   "id": "ae44dea4-d1c3-4a89-892e-dd555e893df3",
   "metadata": {},
   "source": [
    "#### (3)-"
   ]
  },
  {
   "cell_type": "code",
   "execution_count": 1,
   "id": "4a5abb5f-959d-4888-a414-3e84a0cfa361",
   "metadata": {},
   "outputs": [],
   "source": [
    "f= open(\"file1.txt\",\"w\")"
   ]
  },
  {
   "cell_type": "code",
   "execution_count": 2,
   "id": "a01d6dfb-1352-4102-9e0a-5296cb953922",
   "metadata": {},
   "outputs": [
    {
     "data": {
      "text/plain": [
       "33"
      ]
     },
     "execution_count": 2,
     "metadata": {},
     "output_type": "execute_result"
    }
   ],
   "source": [
    "f.write(\"I want to become a Data Scientist\")"
   ]
  },
  {
   "cell_type": "code",
   "execution_count": 3,
   "id": "ca7dcdff-9965-4b01-841c-9fe495153bf1",
   "metadata": {},
   "outputs": [],
   "source": [
    "f.close()"
   ]
  },
  {
   "cell_type": "code",
   "execution_count": 4,
   "id": "2fec410a-bf83-466f-a83d-8813990770e1",
   "metadata": {},
   "outputs": [
    {
     "name": "stdout",
     "output_type": "stream",
     "text": [
      "I want to become a Data Scientist\n"
     ]
    }
   ],
   "source": [
    "with open(\"file1.txt\",\"r\") as f:\n",
    "    print(f.read())"
   ]
  },
  {
   "cell_type": "markdown",
   "id": "2cf0e477-adad-43b2-8574-5cb8e2e2434d",
   "metadata": {},
   "source": [
    "#### (4)-"
   ]
  },
  {
   "cell_type": "code",
   "execution_count": 12,
   "id": "ab469ba6-dbd2-42a8-97fe-af926b513750",
   "metadata": {},
   "outputs": [],
   "source": [
    "f= open(\"file2.txt\",\"w\")"
   ]
  },
  {
   "cell_type": "code",
   "execution_count": 13,
   "id": "b1543c7f-a47b-44bb-a371-6ea09953a013",
   "metadata": {},
   "outputs": [],
   "source": [
    "fruits= [\"apple\\n\", \"banana\\n\", \"cherry\\n\", \"date\\n\", \"mango\\n\", \"kiwi\\n\"]\n",
    "f.writelines(fruits)\n",
    "f.close()"
   ]
  },
  {
   "cell_type": "code",
   "execution_count": 16,
   "id": "906ba923-7076-4bb0-9e11-a9cabb1de0fa",
   "metadata": {},
   "outputs": [
    {
     "name": "stdout",
     "output_type": "stream",
     "text": [
      "apple\n",
      "banana\n",
      "cherry\n",
      "date\n",
      "mango\n",
      "kiwi\n",
      "\n"
     ]
    }
   ],
   "source": [
    "# raeding using read()\n",
    "with open(\"file2.txt\",\"r\") as f:\n",
    "    print(f.read())"
   ]
  },
  {
   "cell_type": "code",
   "execution_count": 18,
   "id": "bc00abcd-4d69-4cc2-8367-d63dc674509c",
   "metadata": {},
   "outputs": [
    {
     "name": "stdout",
     "output_type": "stream",
     "text": [
      "Line1:apple\n",
      "Line2:banana\n",
      "Line3:cherry\n",
      "Line4:date\n",
      "Line5:mango\n",
      "Line6:kiwi\n"
     ]
    }
   ],
   "source": [
    "# reading using readline()\n",
    "with open(\"file2.txt\",\"r\") as f:\n",
    "    count=0\n",
    "    while True:\n",
    "        count+=1\n",
    "        line= f.readline()\n",
    "        if not line:\n",
    "            break\n",
    "            \n",
    "        print(\"Line{}:{}\".format(count,line.strip()))"
   ]
  },
  {
   "cell_type": "code",
   "execution_count": 23,
   "id": "9fecbd7e-8d97-426b-9796-aae4ae2b6de5",
   "metadata": {},
   "outputs": [
    {
     "name": "stdout",
     "output_type": "stream",
     "text": [
      "['apple\\n', 'banana\\n', 'cherry\\n', 'date\\n', 'mango\\n', 'kiwi\\n']\n"
     ]
    }
   ],
   "source": [
    "#reading with readlines()\n",
    "with open(\"file2.txt\",\"r\") as f:\n",
    "    print(f.readlines())"
   ]
  },
  {
   "cell_type": "code",
   "execution_count": 26,
   "id": "82dd56c6-cc54-42e2-aa25-c31f88c176fa",
   "metadata": {},
   "outputs": [
    {
     "name": "stdout",
     "output_type": "stream",
     "text": [
      "statement1:apple\n",
      "statement2:banana\n",
      "statement3:cherry\n",
      "statement4:date\n",
      "statement5:mango\n",
      "statement6:kiwi\n"
     ]
    }
   ],
   "source": [
    "with open(\"file2.txt\",\"r\") as f:\n",
    "    count=0\n",
    "    statements= f.readlines()\n",
    "    for i in statements:\n",
    "        count+=1\n",
    "        print(\"statement{}:{}\".format(count, i.strip()))"
   ]
  },
  {
   "cell_type": "markdown",
   "id": "a2807bbe-2672-4369-8462-f56417ccf1d3",
   "metadata": {},
   "source": [
    "#### (5)-\n",
    "##### with statement is used with open() to open a file in a particular mode. It is advantageous as compared to only open() method because unlike in open() where we had to use close() to close the file, with statement closes the file automatically. With statement has 2 built-in methods- __enter()__ and __exit()__. So, we can easily write something in the file and don't worry about closing it, when we are using with open() "
   ]
  },
  {
   "cell_type": "markdown",
   "id": "fb5471e7-15d1-46d5-aacf-5681c0b478c3",
   "metadata": {},
   "source": [
    "#### (6)- \n",
    "##### write() is used to write a string into a file\n",
    "##### writelines() is used to write a list of strings into a file"
   ]
  },
  {
   "cell_type": "code",
   "execution_count": 27,
   "id": "f4f0355f-2cea-4cfc-98bb-524a94492382",
   "metadata": {},
   "outputs": [
    {
     "name": "stdin",
     "output_type": "stream",
     "text": [
      "enter a name: bhavna\n",
      "enter a name: mohan\n",
      "enter a name: sohan\n"
     ]
    }
   ],
   "source": [
    "with open(\"file3.txt\",\"w\") as f:\n",
    "    for i in range(3):\n",
    "        name= input(\"enter a name:\")\n",
    "        f.write(name)\n",
    "        f.write(\"\\n\")"
   ]
  },
  {
   "cell_type": "code",
   "execution_count": 28,
   "id": "0500813c-9f26-48a8-bdbd-dd8e98db8c17",
   "metadata": {},
   "outputs": [
    {
     "name": "stdin",
     "output_type": "stream",
     "text": [
      "enter a name: bhavna\n",
      "enter a name: mohan\n",
      "enter a name: sudhir\n"
     ]
    }
   ],
   "source": [
    "# using writelines()- \n",
    "with open(\"file4.txt\",\"w\") as f:\n",
    "    l=[]\n",
    "    for i in range(3):\n",
    "        name= input(\"enter a name:\")\n",
    "        l.append(name)\n",
    "        \n",
    "    f.writelines(l)"
   ]
  },
  {
   "cell_type": "code",
   "execution_count": null,
   "id": "53d98ea8-26be-45fb-98dd-9eab5a4f3522",
   "metadata": {},
   "outputs": [],
   "source": []
  }
 ],
 "metadata": {
  "kernelspec": {
   "display_name": "Python 3 (ipykernel)",
   "language": "python",
   "name": "python3"
  },
  "language_info": {
   "codemirror_mode": {
    "name": "ipython",
    "version": 3
   },
   "file_extension": ".py",
   "mimetype": "text/x-python",
   "name": "python",
   "nbconvert_exporter": "python",
   "pygments_lexer": "ipython3",
   "version": "3.10.8"
  }
 },
 "nbformat": 4,
 "nbformat_minor": 5
}
